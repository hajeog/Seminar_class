{
  "nbformat": 4,
  "nbformat_minor": 0,
  "metadata": {
    "colab": {
      "provenance": [],
      "authorship_tag": "ABX9TyPzb8MSXVkrskvXS7WDIA7V",
      "include_colab_link": true
    },
    "kernelspec": {
      "name": "python3",
      "display_name": "Python 3"
    },
    "language_info": {
      "name": "python"
    },
    "accelerator": "GPU",
    "gpuClass": "standard"
  },
  "cells": [
    {
      "cell_type": "markdown",
      "metadata": {
        "id": "view-in-github",
        "colab_type": "text"
      },
      "source": [
        "<a href=\"https://colab.research.google.com/github/hajeog/Seminar_class/blob/main/%ED%95%99%EA%B5%90%EC%88%98%EC%97%85_%EC%86%90%EC%8B%A4%ED%95%A8%EC%88%98.ipynb\" target=\"_parent\"><img src=\"https://colab.research.google.com/assets/colab-badge.svg\" alt=\"Open In Colab\"/></a>"
      ]
    },
    {
      "cell_type": "code",
      "source": [
        "import tensorflow as tf\n",
        "from tensorflow import keras\n",
        "from sklearn.model_selection import train_test_split\n",
        "tf.keras.utils.set_random_seed(42)\n",
        "tf.config.experimental.enable_op_determinism()\n",
        "\n",
        "(train_input, train_target), (test_input, test_target) = keras.datasets.fashion_mnist.load_data()\n",
        "train_scaled = train_input / 255.0\n",
        "train_scaled, val_scaled, train_target, val_target = train_test_split(train_scaled, train_target, test_size=0.2, random_state=42)\n",
        "\n",
        "def model_fn(a_layer=None):\n",
        "    model = keras.Sequential()\n",
        "    model.add(keras.layers.Flatten(input_shape=(28, 28)))\n",
        "    model.add(keras.layers.Dense(100, activation='relu'))\n",
        "    if a_layer:\n",
        "        model.add(a_layer)\n",
        "    model.add(keras.layers.Dense(10, activation='softmax'))\n",
        "    return model\n",
        "\n",
        "model = model_fn(keras.layers.Dropout(0.3))\n",
        "\n",
        "model.compile(optimizer='adam', loss='sparse_categorical_crossentropy', metrics='accuracy')\n",
        "\n",
        "hist = model.fit(train_scaled, train_target, epochs=20, verbose=2, validation_data=(val_scaled, val_target))\n",
        "\n",
        "import matplotlib.pyplot as plt\n",
        "\n",
        "plt.plot(hist.history['loss'])\n",
        "plt.plot(hist.history['val_loss'])\n",
        "plt.title('Model loss')\n",
        "plt.ylabel('Loss')\n",
        "plt.xlabel('Epoch')\n",
        "plt.legend(['Train','Validation'],loc='best')\n",
        "plt.grid()\n",
        "plt.show()"
      ],
      "metadata": {
        "colab": {
          "base_uri": "https://localhost:8080/",
          "height": 1000
        },
        "id": "gkRCE0qQPxmj",
        "outputId": "77ece1bf-198f-45e8-a485-a19feb107180"
      },
      "execution_count": 5,
      "outputs": [
        {
          "output_type": "stream",
          "name": "stdout",
          "text": [
            "Epoch 1/20\n",
            "1500/1500 - 4s - loss: 0.5991 - accuracy: 0.7911 - val_loss: 0.4272 - val_accuracy: 0.8468 - 4s/epoch - 3ms/step\n",
            "Epoch 2/20\n",
            "1500/1500 - 3s - loss: 0.4452 - accuracy: 0.8404 - val_loss: 0.3897 - val_accuracy: 0.8594 - 3s/epoch - 2ms/step\n",
            "Epoch 3/20\n",
            "1500/1500 - 3s - loss: 0.4106 - accuracy: 0.8519 - val_loss: 0.3705 - val_accuracy: 0.8657 - 3s/epoch - 2ms/step\n",
            "Epoch 4/20\n",
            "1500/1500 - 3s - loss: 0.3858 - accuracy: 0.8595 - val_loss: 0.3527 - val_accuracy: 0.8715 - 3s/epoch - 2ms/step\n",
            "Epoch 5/20\n",
            "1500/1500 - 3s - loss: 0.3677 - accuracy: 0.8651 - val_loss: 0.3489 - val_accuracy: 0.8734 - 3s/epoch - 2ms/step\n",
            "Epoch 6/20\n",
            "1500/1500 - 3s - loss: 0.3576 - accuracy: 0.8704 - val_loss: 0.3291 - val_accuracy: 0.8790 - 3s/epoch - 2ms/step\n",
            "Epoch 7/20\n",
            "1500/1500 - 3s - loss: 0.3478 - accuracy: 0.8724 - val_loss: 0.3332 - val_accuracy: 0.8775 - 3s/epoch - 2ms/step\n",
            "Epoch 8/20\n",
            "1500/1500 - 4s - loss: 0.3361 - accuracy: 0.8755 - val_loss: 0.3352 - val_accuracy: 0.8775 - 4s/epoch - 3ms/step\n",
            "Epoch 9/20\n",
            "1500/1500 - 3s - loss: 0.3305 - accuracy: 0.8763 - val_loss: 0.3311 - val_accuracy: 0.8797 - 3s/epoch - 2ms/step\n",
            "Epoch 10/20\n",
            "1500/1500 - 4s - loss: 0.3249 - accuracy: 0.8789 - val_loss: 0.3375 - val_accuracy: 0.8755 - 4s/epoch - 2ms/step\n",
            "Epoch 11/20\n",
            "1500/1500 - 3s - loss: 0.3179 - accuracy: 0.8819 - val_loss: 0.3226 - val_accuracy: 0.8842 - 3s/epoch - 2ms/step\n",
            "Epoch 12/20\n",
            "1500/1500 - 4s - loss: 0.3146 - accuracy: 0.8847 - val_loss: 0.3309 - val_accuracy: 0.8802 - 4s/epoch - 2ms/step\n",
            "Epoch 13/20\n",
            "1500/1500 - 3s - loss: 0.3070 - accuracy: 0.8848 - val_loss: 0.3214 - val_accuracy: 0.8819 - 3s/epoch - 2ms/step\n",
            "Epoch 14/20\n",
            "1500/1500 - 3s - loss: 0.3036 - accuracy: 0.8863 - val_loss: 0.3240 - val_accuracy: 0.8779 - 3s/epoch - 2ms/step\n",
            "Epoch 15/20\n",
            "1500/1500 - 3s - loss: 0.3010 - accuracy: 0.8868 - val_loss: 0.3230 - val_accuracy: 0.8847 - 3s/epoch - 2ms/step\n",
            "Epoch 16/20\n",
            "1500/1500 - 3s - loss: 0.2950 - accuracy: 0.8890 - val_loss: 0.3190 - val_accuracy: 0.8865 - 3s/epoch - 2ms/step\n",
            "Epoch 17/20\n",
            "1500/1500 - 3s - loss: 0.2898 - accuracy: 0.8910 - val_loss: 0.3190 - val_accuracy: 0.8882 - 3s/epoch - 2ms/step\n",
            "Epoch 18/20\n",
            "1500/1500 - 3s - loss: 0.2896 - accuracy: 0.8916 - val_loss: 0.3152 - val_accuracy: 0.8867 - 3s/epoch - 2ms/step\n",
            "Epoch 19/20\n",
            "1500/1500 - 3s - loss: 0.2888 - accuracy: 0.8917 - val_loss: 0.3130 - val_accuracy: 0.8883 - 3s/epoch - 2ms/step\n",
            "Epoch 20/20\n",
            "1500/1500 - 4s - loss: 0.2825 - accuracy: 0.8953 - val_loss: 0.3218 - val_accuracy: 0.8853 - 4s/epoch - 2ms/step\n"
          ]
        },
        {
          "output_type": "display_data",
          "data": {
            "text/plain": [
              "<Figure size 432x288 with 1 Axes>"
            ],
            "image/png": "[encoded data removed]"
          },
          "metadata": {
            "needs_background": "light"
          }
        }
      ]
    },
    {
      "cell_type": "code",
      "source": [],
      "metadata": {
        "id": "jaOEVtWFSQcI"
      },
      "execution_count": null,
      "outputs": []
    }
  ]
}